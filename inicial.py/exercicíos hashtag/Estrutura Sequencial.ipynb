{
 "cells": [
  {
   "cell_type": "markdown",
   "id": "bb0f9514",
   "metadata": {
    "id": "bb0f9514"
   },
   "source": [
    "# Lista de Estrutura Sequencial"
   ]
  },
  {
   "cell_type": "markdown",
   "id": "4e7a8c30",
   "metadata": {
    "id": "4e7a8c30"
   },
   "source": [
    "#### 1. Faça um Programa que mostre a mensagem (print) \"Alo mundo\" na tela."
   ]
  },
  {
   "cell_type": "code",
   "execution_count": 1,
   "id": "883bfe85",
   "metadata": {
    "id": "883bfe85"
   },
   "outputs": [
    {
     "name": "stdout",
     "output_type": "stream",
     "text": [
      "Alo mundo\n"
     ]
    }
   ],
   "source": [
    "print(\"Alo mundo\")"
   ]
  },
  {
   "cell_type": "markdown",
   "id": "71d6d6a2",
   "metadata": {
    "id": "71d6d6a2"
   },
   "source": [
    "#### 2. Faça um Programa que peça um número (input) e então mostre a mensagem: \"O número informado foi [número].\""
   ]
  },
  {
   "cell_type": "code",
   "execution_count": 4,
   "id": "30cfffcf",
   "metadata": {
    "id": "30cfffcf"
   },
   "outputs": [
    {
     "name": "stdout",
     "output_type": "stream",
     "text": [
      "\n",
      "numero= 50\n"
     ]
    }
   ],
   "source": [
    "numero = input('Digite um numero:')\n",
    "print('\\nnumero= '+ numero)"
   ]
  },
  {
   "cell_type": "markdown",
   "id": "c5e43160",
   "metadata": {
    "id": "c5e43160"
   },
   "source": [
    "#### 3. Faça um Programa que peça dois números e imprima a soma."
   ]
  },
  {
   "cell_type": "code",
   "execution_count": 8,
   "id": "b0e79590",
   "metadata": {
    "id": "b0e79590"
   },
   "outputs": [
    {
     "name": "stdout",
     "output_type": "stream",
     "text": [
      " realizando a soma...\n",
      "resultado igual a 30\n"
     ]
    }
   ],
   "source": [
    "num1 = int(input('Digite o primeiro numero.'))\n",
    "num2 = int(input('Digite o segundo numero'))\n",
    "print(f' realizando a soma...\\nresultado igual a {num1+num2}')"
   ]
  },
  {
   "cell_type": "markdown",
   "id": "17826987",
   "metadata": {
    "id": "17826987"
   },
   "source": [
    "#### 4. Faça um Programa que peça as 4 notas bimestrais de um aluno e mostre a média de todas as notas."
   ]
  },
  {
   "cell_type": "code",
   "execution_count": 9,
   "id": "23b66762",
   "metadata": {
    "id": "23b66762"
   },
   "outputs": [
    {
     "name": "stdout",
     "output_type": "stream",
     "text": [
      "Notas:\n",
      "1- 10.0\n",
      "2- 5.0\n",
      "3- 6.0\n",
      "4- 8.0\n",
      "A média das suas notas é 7.25\n"
     ]
    }
   ],
   "source": [
    "nota1 = float(input('Digite sua 1º nota.'))\n",
    "nota2 = float(input('Digite sua 2º nota.'))\n",
    "nota3 = float(input('Digite sua 3º nota.'))\n",
    "nota4 = float(input('Digite sua 4º nota.'))\n",
    "print(f'Notas:\\n1- {nota1}\\n2- {nota2}\\n3- {nota3}\\n4- {nota4}\\nA média das suas notas é {((nota1+nota2+nota3+nota4)/4)}')"
   ]
  },
  {
   "cell_type": "markdown",
   "id": "62d461c5",
   "metadata": {
    "id": "62d461c5"
   },
   "source": [
    "#### 5. Faça um Programa que converta metros para centímetros. Você pode pedir o comprimento em metros para o usuário (input)."
   ]
  },
  {
   "cell_type": "code",
   "execution_count": 17,
   "id": "d642f1ba",
   "metadata": {
    "id": "d642f1ba"
   },
   "outputs": [
    {
     "name": "stdout",
     "output_type": "stream",
     "text": [
      "Convertendo metros para centimentros\n",
      "Numero digitado em metros 35.0m\n",
      "convertendo...\n",
      "Resultado em centimentro é 3500.0cm.\n"
     ]
    }
   ],
   "source": [
    "print('Convertendo metros para centimentros')\n",
    "num = float(input('Digite a quantia em metros que gostaria de converter.'))\n",
    "convercao = num * (100)\n",
    "print(f'Numero digitado em metros {num}m\\nconvertendo...\\nResultado em centimentro é {convercao}cm.')"
   ]
  },
  {
   "cell_type": "markdown",
   "id": "f1311697",
   "metadata": {
    "id": "f1311697"
   },
   "source": [
    "#### 6. Faça um Programa que calcule a área de uma sala de um apartamento. Para isso, o seu programa precisa pedir a largura da sala, o comprimento da sala e imprimir a área em m² da sala."
   ]
  },
  {
   "cell_type": "code",
   "execution_count": 21,
   "id": "612ea24b",
   "metadata": {
    "id": "612ea24b"
   },
   "outputs": [
    {
     "name": "stdout",
     "output_type": "stream",
     "text": [
      "Calculando a Area da sua sala, (por favor use '.' para colocar a virgula no numero digitado e digite o valor em metros).\n",
      "A area total da sua sala é 15.0m².\n"
     ]
    }
   ],
   "source": [
    "print(\"Calculando a Area da sua sala, (por favor use '.' para colocar a virgula no numero digitado e digite o valor em metros).\")\n",
    "h = float(input('Para isso digite a Altura da sua sala.'))\n",
    "l = float(input('Agora o Largura da sua sala.'))\n",
    "print(f'A area total da sua sala é {h*l}m².')"
   ]
  },
  {
   "cell_type": "markdown",
   "id": "2a285929",
   "metadata": {
    "id": "2a285929"
   },
   "source": [
    "#### 7. Faça um Programa que pergunte quanto você ganha por hora e o número de horas trabalhadas no mês. Calcule e mostre o total do seu salário no referido mês."
   ]
  },
  {
   "cell_type": "code",
   "execution_count": 23,
   "id": "359e2232",
   "metadata": {
    "id": "359e2232"
   },
   "outputs": [
    {
     "name": "stdout",
     "output_type": "stream",
     "text": [
      "Calculando o seu salário\n",
      "Então por mês você ganha R$1100.0\n"
     ]
    }
   ],
   "source": [
    "print('Calculando o seu salário')\n",
    "ganho_hora = float(input('Quanto você ganha por hora?'))\n",
    "horas_trabalhadas = int(input('Quantas horas você trabalha no mês?'))\n",
    "print(f'Então por mês você ganha R${ganho_hora*horas_trabalhadas}')"
   ]
  },
  {
   "cell_type": "markdown",
   "id": "7e2d4615",
   "metadata": {
    "id": "7e2d4615"
   },
   "source": [
    "#### 8. Vamos criar um conversor de temperatura. Faça um Programa que peça a temperatura em graus Fahrenheit, transforme e mostre a temperatura em graus Celsius.\n",
    "$C = \\frac{5}{9}(F-32)$"
   ]
  },
  {
   "cell_type": "code",
   "execution_count": null,
   "id": "82daf9fd",
   "metadata": {
    "id": "82daf9fd"
   },
   "outputs": [
    {
     "name": "stdout",
     "output_type": "stream",
     "text": [
      "Transformando temperatura de Fahrenheit para Celsius >>>\n",
      "200.0ºF\n",
      "Convertendo para Celsius...\n",
      "93.33333333333334ºC\n"
     ]
    }
   ],
   "source": [
    "print('Transformando temperatura de Fahrenheit para Celsius >>>')\n",
    "fr = float(input('Digite a temperatura em Fahrenheit'))\n",
    "print(f'{fr}ºF\\nConvertendo para Celsius...')\n",
    "c = 5/9*(fr - 32)\n",
    "print(f'{c}ºC')"
   ]
  },
  {
   "cell_type": "markdown",
   "id": "20708b1c",
   "metadata": {
    "id": "20708b1c"
   },
   "source": [
    "#### 9. Faça um Programa que peça a temperatura em graus Celsius, transforme e mostre em graus Fahrenheit.\n",
    "$F = \\frac{9}{5}C + 32$"
   ]
  },
  {
   "cell_type": "code",
   "execution_count": 25,
   "id": "c73cfb38",
   "metadata": {
    "id": "c73cfb38"
   },
   "outputs": [
    {
     "name": "stdout",
     "output_type": "stream",
     "text": [
      "Transformando temperatura de Celsius para Fahrenheit >>>\n",
      "93.333333ºC\n",
      "Convertendo para Fahrenheit...\n",
      "199.9999994ºF\n"
     ]
    }
   ],
   "source": [
    "print('Transformando temperatura de Celsius para Fahrenheit >>>')\n",
    "c = float(input('Digite a temperatura em Celsius'))\n",
    "print(f'{c}ºC\\nConvertendo para Fahrenheit...')\n",
    "fr = (9/5)*c + 32\n",
    "print(f'{fr}ºF')"
   ]
  },
  {
   "cell_type": "markdown",
   "id": "b263a9dc",
   "metadata": {
    "id": "b263a9dc"
   },
   "source": [
    "#### 10. Tendo como dados de entrada a altura (h) de uma pessoa, construa um algoritmo que calcule seu peso ideal, usando a seguinte fórmula:\n",
    "$P = 72,7h - 58$\n",
    "\n",
    "Lembrando que \"algoritmo\" nada mais é do que um programa, como todos os outros que você vem fazendo"
   ]
  },
  {
   "cell_type": "code",
   "execution_count": null,
   "id": "9a9b8dca",
   "metadata": {
    "id": "9a9b8dca"
   },
   "outputs": [],
   "source": []
  },
  {
   "cell_type": "markdown",
   "id": "13bb40d7",
   "metadata": {
    "id": "13bb40d7"
   },
   "source": [
    "#### 11. Tendo como dado de entrada a altura (h) de uma pessoa, construa um algoritmo que calcule seu peso ideal, utilizando as seguintes fórmulas:\n",
    "##### a. Para homens: $P = 72,7h - 58$\n",
    "##### b. Para mulheres: $P = 62,1h - 44,7$"
   ]
  },
  {
   "cell_type": "code",
   "execution_count": 31,
   "id": "bf82dc8c",
   "metadata": {
    "id": "bf82dc8c"
   },
   "outputs": [
    {
     "name": "stdout",
     "output_type": "stream",
     "text": [
      "     Calculando seu peso\n",
      "Peso ideal está entre 55.4 kg e 74.5 kg.\n"
     ]
    }
   ],
   "source": [
    "print('     Calculando seu peso')\n",
    "h = float(input('Insira sua altura'))\n",
    "\n",
    "phomem = 72\n",
    "pmulher = 62\n",
    "\n",
    "peso_min = 18.5 * (h ** 2)\n",
    "peso_max = 24.9 * (h ** 2)\n",
    "peso_ideal = ((24.9 + 18.5)/2) * (h ** 2)\n",
    "\n",
    "print(f\"Peso ideal está entre {peso_min:.1f} kg e {peso_max:.1f} kg.\")\n"
   ]
  },
  {
   "cell_type": "markdown",
   "id": "f208ef89",
   "metadata": {
    "id": "f208ef89"
   },
   "source": [
    "#### 12. Faça um Programa que pergunte quanto você ganha por hora e o número de horas trabalhadas no mês."
   ]
  },
  {
   "cell_type": "code",
   "execution_count": 32,
   "id": "2d5b23e0",
   "metadata": {
    "id": "2d5b23e0"
   },
   "outputs": [],
   "source": [
    "salario_hora = float(input('Quanto você ganha por hora?'))\n",
    "horas_trabalhadas = float(input('Quantas horas você trabalhou este mês?'))"
   ]
  },
  {
   "cell_type": "markdown",
   "id": "607dee3c",
   "metadata": {
    "id": "607dee3c"
   },
   "source": [
    "#####  Calcule o salário bruto (horas * salario por hora)"
   ]
  },
  {
   "cell_type": "code",
   "execution_count": 33,
   "id": "7f80ccbb",
   "metadata": {
    "id": "7f80ccbb"
   },
   "outputs": [
    {
     "name": "stdout",
     "output_type": "stream",
     "text": [
      "Salario bruto: R$1100.0.\n"
     ]
    }
   ],
   "source": [
    "salario_bruto = salario_hora * horas_trabalhadas\n",
    "print(f'Salario bruto: R${salario_bruto}.')"
   ]
  },
  {
   "cell_type": "markdown",
   "id": "2ed93cb0",
   "metadata": {
    "id": "2ed93cb0"
   },
   "source": [
    "##### Calcule o desconto do IR (11% do salário bruto)"
   ]
  },
  {
   "cell_type": "code",
   "execution_count": 35,
   "id": "3363e22f",
   "metadata": {
    "id": "3363e22f"
   },
   "outputs": [
    {
     "name": "stdout",
     "output_type": "stream",
     "text": [
      "desconto do IR: R$121.0\n"
     ]
    }
   ],
   "source": [
    "desconto_ir = salario_bruto * 0.11\n",
    "print(f'desconto do IR: R${desconto_ir}')"
   ]
  },
  {
   "cell_type": "markdown",
   "id": "0994b2c0",
   "metadata": {
    "id": "0994b2c0"
   },
   "source": [
    "##### Calcule o desconto do INSS (8% do salário bruto)"
   ]
  },
  {
   "cell_type": "code",
   "execution_count": 36,
   "id": "748c6088",
   "metadata": {
    "id": "748c6088"
   },
   "outputs": [
    {
     "name": "stdout",
     "output_type": "stream",
     "text": [
      "Desconto do INSS : R$88.0\n"
     ]
    }
   ],
   "source": [
    "desconto_inss = salario_bruto * 0.08\n",
    "print(f'Desconto do INSS : R${desconto_inss}')"
   ]
  },
  {
   "cell_type": "markdown",
   "id": "06e8dae4",
   "metadata": {
    "id": "06e8dae4"
   },
   "source": [
    "##### Calcule o desconto do sindicato (5% do salário bruto)"
   ]
  },
  {
   "cell_type": "code",
   "execution_count": 37,
   "id": "21b95b15",
   "metadata": {
    "id": "21b95b15",
    "scrolled": true
   },
   "outputs": [
    {
     "name": "stdout",
     "output_type": "stream",
     "text": [
      "Desconto do sindicato: R$55.0\n"
     ]
    }
   ],
   "source": [
    "desconto_sindicato = salario_bruto * 0.05\n",
    "print(f'Desconto do sindicato: R${desconto_sindicato}')"
   ]
  },
  {
   "cell_type": "markdown",
   "id": "bb14ce36",
   "metadata": {
    "id": "bb14ce36"
   },
   "source": [
    "##### Calcule o salário líquido (salário bruto - descontos)"
   ]
  },
  {
   "cell_type": "code",
   "execution_count": 38,
   "id": "56317086",
   "metadata": {
    "id": "56317086"
   },
   "outputs": [
    {
     "name": "stdout",
     "output_type": "stream",
     "text": [
      "Seu salario liquido é R$836.0\n"
     ]
    }
   ],
   "source": [
    "salario_liquido = salario_bruto - desconto_sindicato - desconto_inss - desconto_ir\n",
    "print(f\"Seu salario liquido é R${salario_liquido}\")"
   ]
  },
  {
   "cell_type": "markdown",
   "id": "cfbfcc87",
   "metadata": {
    "id": "cfbfcc87"
   },
   "source": [
    "#### 13. Faça um programa para uma loja de tintas. O programa deverá pedir o tamanho em metros quadrados da área a ser pintada. Considere que a cobertura da tinta é de 1 litro para cada 3 metros quadrados e que a tinta é vendida em latas de 18 litros, que custam R\\$ 80,00. Informe ao usuário a quantidades de latas de tinta a serem compradas e o preço total. (para simplificação nesse momento, não se preocupe em arredondar a quantidade de latas a serem compradas - vamos trabalhar isso em breve)"
   ]
  },
  {
   "cell_type": "code",
   "execution_count": 54,
   "id": "fb6a083b",
   "metadata": {
    "id": "fb6a083b"
   },
   "outputs": [
    {
     "name": "stdout",
     "output_type": "stream",
     "text": [
      "litros de tinta 36.0\n",
      "litros de lata aproximada 2\n",
      "Você deve comprar 2 lata(s) de tinta.\n",
      "Preço total: R$160.00\n"
     ]
    }
   ],
   "source": [
    "import math\n",
    "\n",
    "# Entrada\n",
    "qtd_m2 = float(input('Bem-vindo à nossa loja de tintas! Quantos m² você quer pintar? '))\n",
    "\n",
    "# Cálculos\n",
    "qtd_tinta = qtd_m2 / 3  # 1 litro pinta 3 m²\n",
    "litros_por_lata = 18.00\n",
    "preco_lata = 80.00\n",
    "\n",
    "# Calculando o número de latas (arredondado para cima)\n",
    "qtd_latas = math.ceil(qtd_tinta / litros_por_lata)\n",
    "preco_total = qtd_latas * preco_lata\n",
    "\n",
    "# Saída\n",
    "print('litros de tinta',qtd_tinta)\n",
    "print('litros de lata aproximada',qtd_latas)\n",
    "print(f\"Você deve comprar {qtd_latas} lata(s) de tinta.\")\n",
    "print(f\"Preço total: R${preco_total:.2f}\")\n",
    "\n"
   ]
  },
  {
   "cell_type": "markdown",
   "id": "d6503c92",
   "metadata": {
    "id": "d6503c92"
   },
   "source": [
    "#### 14. Faça um programa que peça o tamanho de um arquivo para download (em MB) e a velocidade de um link de Internet (em Mbps), calcule e informe o tempo aproximado de download do arquivo usando este link (em minutos).\n",
    "\n",
    "Detalhe: MB significa megabyte, Mb (com b minúsculo) significa megabit. Um megabit é 1/8 de um megabyte. "
   ]
  },
  {
   "cell_type": "code",
   "execution_count": 64,
   "id": "0563aa62",
   "metadata": {
    "id": "0563aa62"
   },
   "outputs": [
    {
     "name": "stdout",
     "output_type": "stream",
     "text": [
      "Seu download será concluído em: 22h 13min 20s\n"
     ]
    }
   ],
   "source": [
    "tmn_do_arquivo = float(input('Digite o tamanho do seu arquivo em MB (megabytes): '))\n",
    "vel_link = float(input('Insira a velocidade do seu link de internet em Mbps: '))\n",
    "\n",
    "# Convertendo MB para megabits (1 MB = 8 Mb)\n",
    "t_download = (tmn_do_arquivo * 8) / vel_link  # em segundos\n",
    "\n",
    "# Quebrando em horas, minutos e segundos\n",
    "horas = int(t_download // 3600)\n",
    "minutos = int((t_download % 3600) // 60)\n",
    "segundos = int(t_download % 60)\n",
    "\n",
    "# Exibindo com formatação condicional\n",
    "print(\"Seu download será concluído em:\", end=\" \")\n",
    "if horas > 0:\n",
    "    print(f\"{horas}h \", end=\"\")\n",
    "if minutos > 0:\n",
    "    print(f\"{minutos}min \", end=\"\")\n",
    "print(f\"{segundos}s\")\n"
   ]
  }
 ],
 "metadata": {
  "colab": {
   "provenance": []
  },
  "kernelspec": {
   "display_name": "Python 3",
   "language": "python",
   "name": "python3"
  },
  "language_info": {
   "codemirror_mode": {
    "name": "ipython",
    "version": 3
   },
   "file_extension": ".py",
   "mimetype": "text/x-python",
   "name": "python",
   "nbconvert_exporter": "python",
   "pygments_lexer": "ipython3",
   "version": "3.12.10"
  }
 },
 "nbformat": 4,
 "nbformat_minor": 5
}
