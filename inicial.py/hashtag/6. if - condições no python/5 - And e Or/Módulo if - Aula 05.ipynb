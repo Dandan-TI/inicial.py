{
 "cells": [
  {
   "cell_type": "markdown",
   "metadata": {},
   "source": [
    "# Casos com várias condições/comparações\n",
    "\n",
    "### Estrutura:\n",
    "\n",
    "Quando temos várias comparações, ao invés de criar if dentro de if podemos usar os operadores \"and\" e \"or\" para tratar essas condições.\n",
    "\n",
    "Funciona assim:"
   ]
  },
  {
   "cell_type": "raw",
   "metadata": {},
   "source": [
    "if condicao_1 and condicao_2:\n",
    "    vai ser executado se as 2 condições forem verdadeiras ao mesmo tempo\n",
    "\n",
    "outro caso:\n",
    "\n",
    "if condicao_1 or condicao_2:\n",
    "    vai ser executado se pelo menos uma das condições forem verdadeiras"
   ]
  },
  {
   "cell_type": "markdown",
   "metadata": {},
   "source": [
    "### Exemplo\n",
    "\n",
    "Vamos voltar ao exemplo de cálculo de meta de vendas dos funcionários. Muitas empresas atribuem bonificação do salário dos funcionários de acordo com o resultado do funcionário e também com o resultado da empresa como um todo.\n",
    "\n",
    "Nesse caso, a regra funciona da seguinte forma:\n",
    "- Se o funcionário vendeu mais do que a meta de vendas e a loja bateu a meta de vendas da loja, o funcionário ganha 3% do que ele vendeu em forma de bônus.\n",
    "- Caso o funcionário tenha batido a meta de vendas individual dele, mas a loja não tenha batido a meta de vendas da loja como um todo, o funcionário não ganha bônus."
   ]
  },
  {
   "cell_type": "code",
   "execution_count": 5,
   "metadata": {},
   "outputs": [
    {
     "name": "stdout",
     "output_type": "stream",
     "text": [
      "vendas funcionario 10000\n",
      "vendas loja 100000\n",
      "O funcionario ganha 3% que equivale a R$300.0 de bônus.\n"
     ]
    }
   ],
   "source": [
    "vendas_funcionario = (int(input('Quanto o funcionario vendeu R$...')))\n",
    "meta_funcionario = 10000\n",
    "vendas_loja = (int(input('Quanto a loja vendeu R$...')))\n",
    "meta_loja = 100000\n",
    "print('vendas funcionario {}'.format(vendas_funcionario))\n",
    "print('vendas loja {}'.format(vendas_loja))\n",
    "if vendas_funcionario >= meta_funcionario and vendas_loja >= meta_loja :\n",
    "    print(f'O funcionario ganha 3% que equivale a R${vendas_funcionario * 0.03} de bônus.')\n",
    "\n",
    "else :\n",
    "    print(\"Sem bônus.\")"
   ]
  },
  {
   "cell_type": "markdown",
   "metadata": {},
   "source": [
    "### Outro exemplo\n",
    "\n",
    "Agora vamos levar essa análise mais a fundo.\n",
    "\n",
    "Nessa empresa, existe um outro caso também que garante que o funcionário ganhe um bônus, independente das vendas que ele fez naquele mês.\n",
    "\n",
    "Todo mês os diretores da empresa fazem uma avaliação qualitativa de todos os funcionários. Nessa avaliação os diretores dão uma nota de 0 a 10 para cada funcionário. Se a nota do funcionário for 9 ou 10, ele também ganha o bônus de 3% do valor de vendas. (os bônus não são cumulativos)"
   ]
  },
  {
   "cell_type": "code",
   "execution_count": 21,
   "metadata": {},
   "outputs": [
    {
     "name": "stdout",
     "output_type": "stream",
     "text": [
      "Funcionario recebe bônus de 3% igual a R$3.0\n"
     ]
    }
   ],
   "source": [
    "#avaliação qualitativa.\n",
    "# nota de 0 a 10.\n",
    "vendas_funcionario = int(input('Qual o valor da venda do funcionario?'))\n",
    "vendas_loja = int(input('Qual o valor da venda da loja?'))\n",
    "meta_nota = 9\n",
    "nota_funcionario = int(input('Qual a nota do funcionario?'))\n",
    "bonus = 0.03 * vendas_funcionario\n",
    "if (nota_funcionario >= 9 or vendas_funcionario >= meta_funcionario) and vendas_loja >= meta_loja :\n",
    "    print('Funcionario recebe bônus de 3% igual a R${}'.format(bonus))\n",
    "else :\n",
    "    print('sem bônus...')"
   ]
  }
 ],
 "metadata": {
  "kernelspec": {
   "display_name": "Python 3",
   "language": "python",
   "name": "python3"
  },
  "language_info": {
   "codemirror_mode": {
    "name": "ipython",
    "version": 3
   },
   "file_extension": ".py",
   "mimetype": "text/x-python",
   "name": "python",
   "nbconvert_exporter": "python",
   "pygments_lexer": "ipython3",
   "version": "3.12.10"
  }
 },
 "nbformat": 4,
 "nbformat_minor": 4
}
