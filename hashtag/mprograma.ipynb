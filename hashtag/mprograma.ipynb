{
 "cells": [
  {
   "cell_type": "markdown",
   "metadata": {},
   "source": [
<<<<<<< HEAD
    "## Meu primeiro programa da hash\n",
=======
    "Meu primeiro programa da hash\n",
>>>>>>> 0b19a7b62feb97139b6a189a402bca61639ac508
    "1 - Texto e a programação."
   ]
  },
  {
   "cell_type": "markdown",
   "metadata": {},
   "source": [
    "1 - Texto."
   ]
  },
  {
   "cell_type": "code",
<<<<<<< HEAD
   "execution_count": 1,
=======
   "execution_count": 4,
>>>>>>> 0b19a7b62feb97139b6a189a402bca61639ac508
   "metadata": {},
   "outputs": [
    {
     "name": "stdout",
     "output_type": "stream",
     "text": [
      "HELLOW\n"
     ]
    }
   ],
   "source": [
    "print(\"HELLOW\")"
   ]
  },
  {
   "cell_type": "code",
<<<<<<< HEAD
   "execution_count": 2,
=======
   "execution_count": null,
>>>>>>> 0b19a7b62feb97139b6a189a402bca61639ac508
   "metadata": {},
   "outputs": [
    {
     "name": "stdout",
     "output_type": "stream",
     "text": [
<<<<<<< HEAD
      "meu nome é daniel\n"
=======
      "True\n"
>>>>>>> 0b19a7b62feb97139b6a189a402bca61639ac508
     ]
    }
   ],
   "source": [
    "print(\"meu nome é\" + \" daniel\")"
   ]
  },
  {
   "cell_type": "code",
<<<<<<< HEAD
   "execution_count": 3,
=======
   "execution_count": 15,
>>>>>>> 0b19a7b62feb97139b6a189a402bca61639ac508
   "metadata": {},
   "outputs": [
    {
     "name": "stdout",
     "output_type": "stream",
     "text": [
      "True\n",
      "False\n"
     ]
    }
   ],
   "source": [
    "print(\"texto\" in \"texto está na proxima frase\")# o in procura determinados caracteres e ele é case sensive que diferencia maiusculas e minusculas.\n",
    "print(\"fruta\" in \"texto está na proxima frase\")"
   ]
  },
  {
   "cell_type": "code",
<<<<<<< HEAD
   "execution_count": 4,
=======
   "execution_count": 16,
>>>>>>> 0b19a7b62feb97139b6a189a402bca61639ac508
   "metadata": {},
   "outputs": [
    {
     "name": "stdout",
     "output_type": "stream",
     "text": [
      "1500\n",
      "daniel\n"
     ]
    }
   ],
   "source": [
    "#criando uma variável.\n",
    "qtd_vendas = 1500   #a variavel qtd_vendas recebe o valor numerico 1500.\n",
    "print(qtd_vendas)\n",
    "nome = \"daniel\"\n",
    "print(nome)"
   ]
  },
  {
   "cell_type": "code",
<<<<<<< HEAD
   "execution_count": 5,
   "metadata": {},
   "outputs": [
    {
     "name": "stdout",
     "output_type": "stream",
     "text": [
      " \n"
     ]
    }
   ],
=======
   "execution_count": null,
   "metadata": {},
   "outputs": [],
>>>>>>> 0b19a7b62feb97139b6a189a402bca61639ac508
   "source": [
    "nome = input(\"Qual o seu nome?\") # Entrada do usuário.\n",
    "sobrenome = input(\"Qual o seu sobrenome?\")\n",
    "print(nome + \" \" + sobrenome)"
   ]
  },
  {
   "cell_type": "markdown",
   "metadata": {},
   "source": [
<<<<<<< HEAD
    "## dicas de texto \n",
    "quando titulo # ultilizamos 1 #\n",
=======
    "dicas de texto quando \n",
    "titulo # ultilizamos 1 #\n",
>>>>>>> 0b19a7b62feb97139b6a189a402bca61639ac508
    "# titulo\n",
    "subtitulo usamos 2 #\n",
    "## subtitulo\n",
    "Texto 3 ou mais # quanto mais #s menor fica.\n",
    "#### texto"
   ]
  },
  {
   "cell_type": "markdown",
   "metadata": {},
   "source": [
    "ultilizamos \"<br>\" para quebra as linhas \n",
    "### lista <br>\n",
    "banana<br>feijão<br>arroz<br>"
   ]
<<<<<<< HEAD
  },
  {
   "cell_type": "markdown",
   "metadata": {},
   "source": [
    "### Misturando tipos de variaveis"
   ]
  },
  {
   "cell_type": "code",
   "execution_count": null,
   "metadata": {},
   "outputs": [
    {
     "name": "stdout",
     "output_type": "stream",
     "text": [
      "O Faturamento da loja foi R$2000 reais\n",
      "O Custo da loja foi R$500 reais\n",
      "Logo o Lucro da loja foi R$1500 reais\n"
     ]
    }
   ],
   "source": [
    "faturamento = 2000\n",
    "custo = 500\n",
    "lucro = faturamento - custo\n",
    "# concatenando com operador logico.\n",
    "# str muda a variavel para texto.\n",
    "print(\"O Faturamento da loja foi R$\" + str(faturamento) + \" reais\")\n",
    "print(\"O Custo da loja foi R$\" + str(custo) + \" reais\")\n",
    "print(\"Logo o Lucro da loja foi R$\" + str(lucro) + \" reais\")"
   ]
  },
  {
   "cell_type": "code",
   "execution_count": 11,
   "metadata": {},
   "outputs": [
    {
     "name": "stdout",
     "output_type": "stream",
     "text": [
      "O Faturamento da loja foi R$2000 reais. O Custo da loja foi R$500 reais. Logo o Lucro da loja foi R$1500 reais\n"
     ]
    }
   ],
   "source": [
    "print(\"O Faturamento da loja foi R$\" + str(faturamento) + \" reais\" + \". O Custo da loja foi R$\" + str(custo) + \" reais\" + \". Logo o Lucro da loja foi R$\" + str(lucro) + \" reais\")"
   ]
  },
  {
   "cell_type": "markdown",
   "metadata": {},
   "source": [
    "### Metodo Format"
   ]
  },
  {
   "cell_type": "code",
   "execution_count": null,
   "metadata": {},
   "outputs": [
    {
     "name": "stdout",
     "output_type": "stream",
     "text": [
      "O faturamento da loja foi 2000. O custo da loja foi 500. Logo o lucro da loja foi 1500.\n"
     ]
    }
   ],
   "source": [
    "faturamento = 2000\n",
    "custo = 500\n",
    "lucro = faturamento - custo\n",
    "# . format faz uma sequencia de chaves com uma sequencia de variaveis ao longo do texto.\n",
    "print(\"O faturamento da loja foi {}. O custo da loja foi {}. Logo o lucro da loja foi {}.\".format(faturamento,custo,lucro))"
   ]
  },
  {
   "cell_type": "markdown",
   "metadata": {},
   "source": [
    "### Metodo com f-string"
   ]
  },
  {
   "cell_type": "code",
   "execution_count": 15,
   "metadata": {},
   "outputs": [
    {
     "name": "stdout",
     "output_type": "stream",
     "text": [
      "O faturamento da loja foi 2000. O custo da loja foi 500. Logo o lucro da loja foi 1500.\n",
      "O faturamento da loja foi 2000. O custo da loja foi 500. Logo o lucro da loja foi 1500.\n"
     ]
    }
   ],
   "source": [
    "faturamento = 2000\n",
    "custo = 500\n",
    "lucro = faturamento - custo\n",
    "#usamos o f antes do texto para colocar as variaveis entre chaves.\n",
    "print(f\"O faturamento da loja foi {faturamento}. O custo da loja foi {custo}. Logo o lucro da loja foi {lucro}.\")\n",
    "# Ou podemos fazer uma operação dentro das chaves dessa forma...\n",
    "print(f\"O faturamento da loja foi {faturamento}. O custo da loja foi {custo}. Logo o lucro da loja foi {faturamento - custo}.\")"
   ]
  },
  {
   "cell_type": "markdown",
   "metadata": {},
   "source": [
    "### Mudanças no tipo de variavel"
   ]
  },
  {
   "cell_type": "markdown",
   "metadata": {},
   "source": [
    "Caso rodamos um codigo para fazer uma operação matematica devemos declarar que ali é um numero em si, ou seja, ou 'int' ou um 'float'<br>\n",
    "<br>str -> texto\n",
    "<br>int -> inteiro\n",
    "<br>float -> ponto flutuante(casa decimal)"
   ]
  },
  {
   "cell_type": "code",
   "execution_count": null,
   "metadata": {},
   "outputs": [
    {
     "ename": "TypeError",
     "evalue": "unsupported operand type(s) for -: 'str' and 'str'",
     "output_type": "error",
     "traceback": [
      "\u001b[1;31m---------------------------------------------------------------------------\u001b[0m",
      "\u001b[1;31mTypeError\u001b[0m                                 Traceback (most recent call last)",
      "Cell \u001b[1;32mIn[16], line 4\u001b[0m\n\u001b[0;32m      1\u001b[0m faturamento \u001b[38;5;241m=\u001b[39m \u001b[38;5;28minput\u001b[39m(\u001b[38;5;124m\"\u001b[39m\u001b[38;5;124mInsira o faturamento?\u001b[39m\u001b[38;5;124m\"\u001b[39m)\n\u001b[0;32m      2\u001b[0m custo \u001b[38;5;241m=\u001b[39m \u001b[38;5;28minput\u001b[39m(\u001b[38;5;124m\"\u001b[39m\u001b[38;5;124mInsira o custo\u001b[39m\u001b[38;5;124m\"\u001b[39m)\n\u001b[1;32m----> 4\u001b[0m lucro \u001b[38;5;241m=\u001b[39m \u001b[43mfaturamento\u001b[49m\u001b[43m \u001b[49m\u001b[38;5;241;43m-\u001b[39;49m\u001b[43m \u001b[49m\u001b[43mcusto\u001b[49m\n\u001b[0;32m      6\u001b[0m \u001b[38;5;28mprint\u001b[39m(\u001b[38;5;124mf\u001b[39m\u001b[38;5;124m\"\u001b[39m\u001b[38;5;124mSeu lucro é \u001b[39m\u001b[38;5;132;01m{\u001b[39;00mlucro\u001b[38;5;132;01m}\u001b[39;00m\u001b[38;5;124m\"\u001b[39m)\n",
      "\u001b[1;31mTypeError\u001b[0m: unsupported operand type(s) for -: 'str' and 'str'"
     ]
    }
   ],
   "source": [
    "# se você rodar o codigo abaixo sem declarar as variaveis para a operação ele vai dar um erro.\n",
    "faturamento = input(\"Insira o faturamento?\")\n",
    "custo = input(\"Insira o custo\")\n",
    "\n",
    "lucro = faturamento - custo\n",
    "\n",
    "print(f\"Seu lucro é {lucro}\")"
   ]
  },
  {
   "cell_type": "code",
   "execution_count": 19,
   "metadata": {},
   "outputs": [
    {
     "name": "stdout",
     "output_type": "stream",
     "text": [
      "faturamento 50.0 \n",
      "Custo 10.0\n",
      "\n",
      "Seu lucro é 40.0\n"
     ]
    }
   ],
   "source": [
    "faturamento = float(input(\"Insira o faturamento?\"))\n",
    "custo = float(input(\"Insira o custo\"))\n",
    "print(f\"faturamento {faturamento} \\nCusto {custo}\\n\")\n",
    "lucro = faturamento - custo\n",
    "\n",
    "print(f\"Seu lucro é {lucro}\")"
   ]
=======
>>>>>>> 0b19a7b62feb97139b6a189a402bca61639ac508
  }
 ],
 "metadata": {
  "kernelspec": {
   "display_name": "Python 3",
   "language": "python",
   "name": "python3"
  },
  "language_info": {
   "codemirror_mode": {
    "name": "ipython",
    "version": 3
   },
   "file_extension": ".py",
   "mimetype": "text/x-python",
   "name": "python",
   "nbconvert_exporter": "python",
   "pygments_lexer": "ipython3",
<<<<<<< HEAD
   "version": "3.12.10"
=======
   "version": "3.12.9"
>>>>>>> 0b19a7b62feb97139b6a189a402bca61639ac508
  }
 },
 "nbformat": 4,
 "nbformat_minor": 2
}
