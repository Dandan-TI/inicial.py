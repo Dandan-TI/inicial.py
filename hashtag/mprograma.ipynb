{
 "cells": [
  {
   "cell_type": "markdown",
   "metadata": {},
   "source": [
    "Meu primeiro programa da hash\n",
    "1 - Texto e a programação."
   ]
  },
  {
   "cell_type": "markdown",
   "metadata": {},
   "source": [
    "1 - Texto."
   ]
  },
  {
   "cell_type": "code",
   "execution_count": 4,
   "metadata": {},
   "outputs": [
    {
     "name": "stdout",
     "output_type": "stream",
     "text": [
      "HELLOW\n"
     ]
    }
   ],
   "source": [
    "print(\"HELLOW\")"
   ]
  },
  {
   "cell_type": "code",
   "execution_count": null,
   "metadata": {},
   "outputs": [
    {
     "name": "stdout",
     "output_type": "stream",
     "text": [
      "True\n"
     ]
    }
   ],
   "source": [
    "print(\"meu nome é\" + \" daniel\")"
   ]
  },
  {
   "cell_type": "code",
   "execution_count": 15,
   "metadata": {},
   "outputs": [
    {
     "name": "stdout",
     "output_type": "stream",
     "text": [
      "True\n",
      "False\n"
     ]
    }
   ],
   "source": [
    "print(\"texto\" in \"texto está na proxima frase\")# o in procura determinados caracteres e ele é case sensive que diferencia maiusculas e minusculas.\n",
    "print(\"fruta\" in \"texto está na proxima frase\")"
   ]
  },
  {
   "cell_type": "code",
   "execution_count": 16,
   "metadata": {},
   "outputs": [
    {
     "name": "stdout",
     "output_type": "stream",
     "text": [
      "1500\n",
      "daniel\n"
     ]
    }
   ],
   "source": [
    "#criando uma variável.\n",
    "qtd_vendas = 1500   #a variavel qtd_vendas recebe o valor numerico 1500.\n",
    "print(qtd_vendas)\n",
    "nome = \"daniel\"\n",
    "print(nome)"
   ]
  },
  {
   "cell_type": "code",
   "execution_count": null,
   "metadata": {},
   "outputs": [],
   "source": [
    "nome = input(\"Qual o seu nome?\") # Entrada do usuário.\n",
    "sobrenome = input(\"Qual o seu sobrenome?\")\n",
    "print(nome + \" \" + sobrenome)"
   ]
  },
  {
   "cell_type": "markdown",
   "metadata": {},
   "source": [
    "dicas de texto quando \n",
    "titulo # ultilizamos 1 #\n",
    "# titulo\n",
    "subtitulo usamos 2 #\n",
    "## subtitulo\n",
    "Texto 3 ou mais # quanto mais #s menor fica.\n",
    "#### texto"
   ]
  },
  {
   "cell_type": "markdown",
   "metadata": {},
   "source": [
    "ultilizamos \"<br>\" para quebra as linhas \n",
    "### lista <br>\n",
    "banana<br>feijão<br>arroz<br>"
   ]
  }
 ],
 "metadata": {
  "kernelspec": {
   "display_name": "Python 3",
   "language": "python",
   "name": "python3"
  },
  "language_info": {
   "codemirror_mode": {
    "name": "ipython",
    "version": 3
   },
   "file_extension": ".py",
   "mimetype": "text/x-python",
   "name": "python",
   "nbconvert_exporter": "python",
   "pygments_lexer": "ipython3",
   "version": "3.12.9"
  }
 },
 "nbformat": 4,
 "nbformat_minor": 2
}
